{
 "cells": [
  {
   "cell_type": "code",
   "execution_count": null,
   "metadata": {},
   "outputs": [],
   "source": [
    "from math import sqrt as sqrt\n",
    "\n",
    "def isPrime(num):\n",
    "    if num < 2 or type(num) == float: \n",
    "        return False\n",
    "    else : \n",
    "        for i in range(2,int(sqrt(num)+1)):\n",
    "            if num % i == 0 :\n",
    "                return False\n",
    "        return True\n",
    "\n",
    "# Fast running isPrime function\n"
   ]
  },
  {
   "cell_type": "code",
   "execution_count": null,
   "metadata": {},
   "outputs": [],
   "source": []
  }
 ],
 "metadata": {
  "kernelspec": {
   "display_name": "Python 3.9.12 ('base')",
   "language": "python",
   "name": "python3"
  },
  "language_info": {
   "codemirror_mode": {
    "name": "ipython",
    "version": 3
   },
   "file_extension": ".py",
   "mimetype": "text/x-python",
   "name": "python",
   "nbconvert_exporter": "python",
   "pygments_lexer": "ipython3",
   "version": "3.9.12"
  },
  "orig_nbformat": 4,
  "vscode": {
   "interpreter": {
    "hash": "7472d9da26e9290f88d1d83fd7a0a78e80b5c4c11f57fcb98471aeaa4437e7a0"
   }
  }
 },
 "nbformat": 4,
 "nbformat_minor": 2
}
